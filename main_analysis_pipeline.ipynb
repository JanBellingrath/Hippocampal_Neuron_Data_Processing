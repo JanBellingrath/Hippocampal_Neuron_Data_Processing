{
 "cells": [
  {
   "cell_type": "markdown",
   "id": "8b9c612c",
   "metadata": {},
   "source": [
    "# This is the analysis pipeline for the calculation of tau and branching factor of neuronal data from the hippocampus. \n",
    "\n",
    "The data are take from: https://datadryad.org/stash/dataset/doi:10.7272/Q61N7ZC3"
   ]
  },
  {
   "cell_type": "markdown",
   "id": "d8a18ec9",
   "metadata": {},
   "source": [
    "### Importing the branching factor/tau estimator\n",
    "\n",
    "For documentation regards the estimator see https://mrestimator.readthedocs.io/en/latest/doc/gettingstarted.html, see also Spitzner, F. P., Dehning, J., Wilting, J., Hagemann, A., P. Neto, J., Zierenberg, J., & Priesemann, V. (2021)."
   ]
  },
  {
   "cell_type": "code",
   "execution_count": null,
   "id": "5e420771",
   "metadata": {},
   "outputs": [],
   "source": [
    "import mrestimator as mre"
   ]
  },
  {
   "cell_type": "markdown",
   "id": "5c254403",
   "metadata": {},
   "source": [
    "### Importing relevant non-standard modules\n",
    "All of which -- as well as additional submodules which are accessed from the modules imported here -- can be found on GitHub https://github.com/JanBellingrath/Hippocampal_Neuron_Data_Processing"
   ]
  },
  {
   "cell_type": "code",
   "execution_count": null,
   "id": "e4f50cd6",
   "metadata": {},
   "outputs": [],
   "source": [
    "import pipeline.utilities as u\n",
    "import criticality_analysis as can\n",
    "import compactifying_functions as compact"
   ]
  },
  {
   "cell_type": "markdown",
   "id": "56ff1b0f",
   "metadata": {},
   "source": [
    "### Defining each animal via its short name and its directory"
   ]
  },
  {
   "cell_type": "code",
   "execution_count": null,
   "id": "090c732b",
   "metadata": {},
   "outputs": [],
   "source": [
    "from collections import namedtuple\n",
    "\n",
    "Animal = namedtuple('Animal', {'short_name', 'directory'})\n",
    "\n",
    "conley = Animal('/home/bellijjy/Conley.tar/Conley', 'con')\n",
    "dave = Animal('/home/bellijjy/Dave.tar/Dave/Dave', 'dav')\n",
    "chapati = Animal('/home/bellijjy/Chapati.tar/Chapati/Chapati', 'cha')\n",
    "corriander = Animal('/home/bellijjy/Corriander.tar/Corriander', 'Cor')\n",
    "dudley = Animal('/home/bellijjy/Dudley', 'dud')\n",
    "bond = Animal('/home/bellijjy/Bond', 'bon')\n",
    "\n",
    "animals = {'con': Animal('con','/home/bellijjy/Conley.tar/Conley'),\n",
    "           'Cor': Animal('Cor','/home/bellijjy/Corriander.tar/Corriander'),\n",
    "            'cha': Animal('cha','/home/bellijjy/Chapati.tar/Chapati/Chapati'),\n",
    "          'dav': Animal('dav','/home/bellijjy/Dave.tar/Dave/Dave'),\n",
    "           'dud': Animal('dud','/home/bellijjy/Dudley'),\n",
    "            'bon' : Animal('bon', '/home/bellijjy/Bond')}"
   ]
  },
  {
   "cell_type": "markdown",
   "id": "3fd2d5f6",
   "metadata": {},
   "source": [
    "### Getting the neuron ids for a specific animal and a specific area\n",
    "The input is the subarea of interest (for example, 'CA1') and the short_name of the animal (for example, 'con').\n",
    "This function returns the neuron ids for each day/epoch combination, relative to the behavioral state of the epoch (awake/asleep). These neuron ids will be used to retrieve the data. Sometimes the function throws an error (FileNotFoundError: [Errno 2] No such file or directory: '/home/bellijjy/Conley.tar/Conleycellinfo.mat'), this solves itself with (usually not more than one or two, sometimes more) restarts of the kernel."
   ]
  },
  {
   "cell_type": "code",
   "execution_count": null,
   "id": "2efe3868",
   "metadata": {},
   "outputs": [],
   "source": [
    "neuron_ids = compact.neuron_ids_for_specific_animal_and_subarea('CA1', 'con')"
   ]
  },
  {
   "cell_type": "markdown",
   "id": "a1ce7a97",
   "metadata": {},
   "source": [
    "### Getting the neuronal data per state/day/epoch/time_chunk as values with the spike time as index.\n",
    "Takes the neuron ids from above and gets the data, subdividing the data into chunks of n seconds. "
   ]
  },
  {
   "cell_type": "code",
   "execution_count": null,
   "id": "720560b7",
   "metadata": {},
   "outputs": [],
   "source": [
    "splitted_by_sec_spike_dict = compact.get_spike_data(neuron_ids, 30, 'CA1', 'con')"
   ]
  },
  {
   "cell_type": "markdown",
   "id": "bbf6f35f",
   "metadata": {},
   "source": [
    "### Running the estimator on the data, to get the branching parameter and tau values, relative to the defined time_chunks\n",
    "Takes the behav_state/day/epoch/time_chunk dict generated above, as well as parameters relevant for the estimator. For the documentation of the estimator and detailed explanations see https://mrestimator.readthedocs.io/en/latest/doc/gettingstarted.html.\n",
    "As (with a second interval of 30s) about 1000 (depending on animal) indiviudal points are estimated, the function may take a couple of minutes to run. The 'dt' parameter refers to the temporal resolution of the recording."
   ]
  },
  {
   "cell_type": "code",
   "execution_count": null,
   "id": "fa8a1030",
   "metadata": {
    "scrolled": true
   },
   "outputs": [],
   "source": [
    "output_handler_dict = can.run_analysis(splitted_by_sec_spike_dict, numboot=0, coefficientmethod='ts', dt = 0.000666, dtunit = 's', targetdir='./output', title='My Analysis', tmin=0, tmax=8000, fitfuncs=['complex'])"
   ]
  },
  {
   "cell_type": "markdown",
   "id": "b74cbc7a",
   "metadata": {},
   "source": [
    "### Saving the data into a file \n",
    "Store the data in a file with a given name (such as con_CA1). Optimal input is directory, default value is current working directory."
   ]
  },
  {
   "cell_type": "code",
   "execution_count": null,
   "id": "05da1d77",
   "metadata": {
    "scrolled": true
   },
   "outputs": [],
   "source": [
    "u.store_data(output_handler_dict, cha_CA1)"
   ]
  }
 ],
 "metadata": {
  "kernelspec": {
   "display_name": "Python 3",
   "language": "python",
   "name": "python3"
  },
  "language_info": {
   "codemirror_mode": {
    "name": "ipython",
    "version": 3
   },
   "file_extension": ".py",
   "mimetype": "text/x-python",
   "name": "python",
   "nbconvert_exporter": "python",
   "pygments_lexer": "ipython3",
   "version": "3.8.10"
  }
 },
 "nbformat": 4,
 "nbformat_minor": 5
}
