{
 "cells": [
  {
   "cell_type": "code",
   "execution_count": null,
   "id": "b6e4eb4c-6f03-479c-87b0-c4d2e896a58a",
   "metadata": {},
   "outputs": [],
   "source": []
  },
  {
   "cell_type": "code",
   "execution_count": null,
   "id": "ddf0a497-0650-41cf-9624-ec16a1af03f3",
   "metadata": {},
   "outputs": [],
   "source": [
    "#!/usr/bin/env python\n",
    "# coding: utf-8\n",
    "\n",
    "# # This is the analysis pipeline for the calculation of tau and branching factor of neural data from the hippocampus. \n",
    "# \n",
    "# The data are take from: https://datadryad.org/stash/dataset/doi:10.7272/Q61N7ZC3\n",
    "\n",
    "# ### Importing the branching factor/tau estimator\n",
    "# \n",
    "# For documentation regards the estimator see https://mrestimator.readthedocs.io/en/latest/doc/gettingstarted.html, Spitzner, F. P., Dehning, J., Wilting, J., Hagemann, A., P. Neto, J., Zierenberg, J., & Priesemann, V. (2021).\n",
    "\n",
    "# ### Importing relevant non-standard modules\n",
    "# All of which can be found on github https://github.com/JanBellingrath/Hippocampal_Neuron_Data_Processing\n",
    "\n",
    "\n",
    "import pipeline.initiation_functions as init\n",
    "from collections import namedtuple\n",
    "\n",
    "\n",
    "# ### Defining each animal via its short name and its directory\n",
    "Animal = namedtuple('Animal', {'short_name', 'directory'})\n",
    "\n",
    "#'con': Animal('con','/home/bellijjy/Conley.tar/Conley'),\n",
    "#'Cor': Animal('Cor','/home/bellijjy/Corriander.tar/Corriander'),\n",
    "#'cha': Animal('cha','/home/bellijjy/Chapati.tar/Chapati/Chapati'),\n",
    "#'dav': Animal('dav','/home/bellijjy/Dave.tar/Dave/Dave'),\n",
    "#'dud': Animal('dud','/home/bellijjy/Dudley'),\n",
    "animals_dict = {'fra' : Animal('fra', '/local2/Jan/Frank/Frank'),\n",
    "           'gov' : Animal('gov', '/local2/Jan/Government/Government'),\n",
    "           'egy' : Animal('egy', '/local2/Jan/Egypt/Egypt'), \n",
    "           'remy': Animal('remy', '/local2/Jan/Remy/Remy'),\n",
    "           \"Fiv\" : Animal(\"Fiv\", \"/home/dekorvyb/Downloads/Fiv\"),\n",
    "           \"bon\" : Animal(\"bon\", \"/home/dekorvyb/Downloads/Bon\")}\n",
    "\n",
    "\n",
    "\n",
    "\n",
    "# animals to analyze\n",
    "animal_list = [ \"bon\"] #'egy', 'con', 'dav', 'fra', 'gov', 'remy', 'bon', 'dud', 'Cor', \"Fiv\"\n",
    "\n",
    "# areas to analyze\n",
    "area_list = ['CA1'] #CA3\n",
    "len_time_chunk = 90\n",
    "\n",
    "init.intrinsic_time_scale_estimation_for_all_animals(animal_list,\n",
    "                                                     area_list,\n",
    "                                                     len_time_chunk,\n",
    "                                                     animals_dict,\n",
    "                                                     target_directory = \"/home/dekorvyb/Documents/gov_CA1_CA3/\",\n",
    "                                                     mode = \"debug\",\n",
    "                                                     check_duplicates = True)\n",
    "\n",
    "\n",
    "\n",
    "#dav ca3 done\n",
    "#cor ca1 done\n",
    "#rest not yet\n",
    "\n"
   ]
  },
  {
   "cell_type": "code",
   "execution_count": null,
   "id": "a442d194-f737-4b6e-9a55-9fb7dae08348",
   "metadata": {},
   "outputs": [],
   "source": []
  },
  {
   "cell_type": "code",
   "execution_count": null,
   "id": "805d5c87-1a0c-487a-b54a-cc9cd972b9a6",
   "metadata": {},
   "outputs": [],
   "source": []
  },
  {
   "cell_type": "code",
   "execution_count": null,
   "id": "12d9eaaf-80b6-4f53-b6c2-e52d3499ec70",
   "metadata": {},
   "outputs": [],
   "source": []
  }
 ],
 "metadata": {
  "kernelspec": {
   "display_name": "Python 3",
   "language": "python",
   "name": "python3"
  },
  "language_info": {
   "codemirror_mode": {
    "name": "ipython",
    "version": 3
   },
   "file_extension": ".py",
   "mimetype": "text/x-python",
   "name": "python",
   "nbconvert_exporter": "python",
   "pygments_lexer": "ipython3",
   "version": "3.8.10"
  }
 },
 "nbformat": 4,
 "nbformat_minor": 5
}
