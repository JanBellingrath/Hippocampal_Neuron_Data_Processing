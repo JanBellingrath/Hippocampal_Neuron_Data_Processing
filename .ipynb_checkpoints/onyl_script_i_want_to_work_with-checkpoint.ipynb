{
 "cells": [
  {
   "cell_type": "code",
   "execution_count": 2,
   "id": "105610fb-8a4f-46c4-97b3-6d1ace753417",
   "metadata": {},
   "outputs": [
    {
     "ename": "ModuleNotFoundError",
     "evalue": "No module named 'analysis_pipeline_up_to_date_version.ipynb'; 'analysis_pipeline_up_to_date_version' is not a package",
     "output_type": "error",
     "traceback": [
      "\u001b[0;31m---------------------------------------------------------------------------\u001b[0m",
      "\u001b[0;31mModuleNotFoundError\u001b[0m                       Traceback (most recent call last)",
      "\u001b[0;32m<ipython-input-2-4fc6bf3dc451>\u001b[0m in \u001b[0;36m<module>\u001b[0;34m\u001b[0m\n\u001b[0;32m----> 1\u001b[0;31m \u001b[0;32mimport\u001b[0m \u001b[0manalysis_pipeline_up_to_date_version\u001b[0m\u001b[0;34m.\u001b[0m\u001b[0mipynb\u001b[0m \u001b[0;32mas\u001b[0m \u001b[0map\u001b[0m\u001b[0;34m\u001b[0m\u001b[0;34m\u001b[0m\u001b[0m\n\u001b[0m\u001b[1;32m      2\u001b[0m \u001b[0;34m\u001b[0m\u001b[0m\n\u001b[1;32m      3\u001b[0m \u001b[0;34m\u001b[0m\u001b[0m\n\u001b[1;32m      4\u001b[0m \u001b[0manimal_list\u001b[0m \u001b[0;34m=\u001b[0m \u001b[0;34m[\u001b[0m \u001b[0;34m'remy'\u001b[0m\u001b[0;34m]\u001b[0m\u001b[0;31m#'egy', 'con', 'dav', 'fra', 'gov', 'remy', 'bon', 'dud', 'Cor'\u001b[0m\u001b[0;34m\u001b[0m\u001b[0;34m\u001b[0m\u001b[0m\n\u001b[1;32m      5\u001b[0m \u001b[0marea_list\u001b[0m \u001b[0;34m=\u001b[0m \u001b[0;34m[\u001b[0m\u001b[0;34m'CA3'\u001b[0m\u001b[0;34m]\u001b[0m\u001b[0;34m\u001b[0m\u001b[0;34m\u001b[0m\u001b[0m\n",
      "\u001b[0;31mModuleNotFoundError\u001b[0m: No module named 'analysis_pipeline_up_to_date_version.ipynb'; 'analysis_pipeline_up_to_date_version' is not a package"
     ]
    }
   ],
   "source": [
    "import analysis_pipeline_for_vincent as ap\n",
    "\n",
    "\n",
    "animal_list = [ 'remy']#'egy', 'con', 'dav', 'fra', 'gov', 'remy', 'bon', 'dud', 'Cor'\n",
    "area_list = ['CA3']\n",
    "len_time_chunk = 90\n",
    "\n",
    "ap.intrinsic_time_scale_estimation_for_all_animals(animal_list, area_list, len_time_chunk)"
   ]
  },
  {
   "cell_type": "code",
   "execution_count": null,
   "id": "b293454c-9d88-4037-b89d-e32337e76122",
   "metadata": {},
   "outputs": [],
   "source": []
  }
 ],
 "metadata": {
  "kernelspec": {
   "display_name": "Python 3",
   "language": "python",
   "name": "python3"
  },
  "language_info": {
   "codemirror_mode": {
    "name": "ipython",
    "version": 3
   },
   "file_extension": ".py",
   "mimetype": "text/x-python",
   "name": "python",
   "nbconvert_exporter": "python",
   "pygments_lexer": "ipython3",
   "version": "3.8.10"
  }
 },
 "nbformat": 4,
 "nbformat_minor": 5
}
